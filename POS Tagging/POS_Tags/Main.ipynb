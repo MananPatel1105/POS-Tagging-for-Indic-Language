{
 "cells": [
  {
   "cell_type": "code",
   "execution_count": 1,
   "metadata": {},
   "outputs": [],
   "source": [
    "from POS_TAGGER import POS_Tagger"
   ]
  },
  {
   "cell_type": "code",
   "execution_count": 10,
   "metadata": {},
   "outputs": [],
   "source": [
    "#वर्षा की बूँदें भूमि को सजाती हैं और प्रकृति की सुंदरता को नया जीवन देती है। गर्मियों में यह सुखद रिमझिम आकर्षित करती है।\n",
    "#મારો મિત્ર# @ ગમ્યો છે મહેનત થી વેદાંત!\n",
    "#The sun set over the horizon, painting the sky with brilliant shades of orange and pink. As the day gave way to night, the stars began to twinkle in the darkening firmament. A gentle breeze rustled the leaves in the trees, creating a soothing symphony of nature.\n",
    "#Hello, नमस्ते, how are you today? વેદાંત सजाती सुंदरता મહેનત છે\n",
    "\n",
    "\n",
    "\n",
    "a = POS_Tagger('મારો મિત્ર# @ ગમ્યો છે મહેનત થી વેદાંત!', Mixed = False)"
   ]
  },
  {
   "cell_type": "code",
   "execution_count": 11,
   "metadata": {},
   "outputs": [
    {
     "name": "stdout",
     "output_type": "stream",
     "text": [
      "ઘણા\t------▶\tAdjective\n",
      "વર્ષોથી\t------▶\tAdverb\n",
      "કોઈ\t------▶\tDeterminant\n",
      "એક\t------▶\tDeterminer\n",
      "વ્યક્તિના\t------▶\tNoun\n",
      "શોખ\t------▶\tNoun\n",
      "પર\t------▶\tPreposition\n",
      "સારી\t------▶\tAdjective\n",
      "રીતે\t------▶\tAdverb\n",
      "સત્તા\t------▶\tMissing\n",
      "બની\t------▶\tVerb\n",
      "શકે\t------▶\tVerb\n",
      "છે\t------▶\tVerb\n",
      "અને\t------▶\tConjunction\n",
      "સંભવત\t------▶\tAdverb\n",
      "થોડું\t------▶\tAdjective\n",
      "મેળાવડાઓને\t------▶\tNoun\n",
      "અનૌપચારિક\t------▶\tAdjective\n",
      "વાતો\t------▶\tNoun\n",
      "કરવાનું\t------▶\tVerb\n",
      "કહેવામાં\t------▶\tVerb\n",
      "આવશે\t------▶\tVerb\n",
      "પછી\t------▶\tAdjective\n",
      "જો\t------▶\tConjunction\n",
      "સફળ\t------▶\tMissing\n",
      "થાય\t------▶\tVerb\n",
      "તો\t------▶\tPronoun\n",
      "મોટા\t------▶\tAdjective\n",
      "પ્રેક્ષકોને\t------▶\tNoun\n",
      "\n",
      "\n",
      "\n",
      "Rules Applied: - 2\n",
      "\n",
      "***** RULES APPLIED *****\n",
      "\n",
      "વર્ષોથી\t----▶  Noun\t----▶  Adverb\n",
      "એક\t----▶  Determinant\t----▶  Determiner\n"
     ]
    }
   ],
   "source": [
    "a.POS_Tags()"
   ]
  },
  {
   "cell_type": "code",
   "execution_count": null,
   "metadata": {},
   "outputs": [],
   "source": []
  }
 ],
 "metadata": {
  "kernelspec": {
   "display_name": "Python 3",
   "language": "python",
   "name": "python3"
  },
  "language_info": {
   "codemirror_mode": {
    "name": "ipython",
    "version": 3
   },
   "file_extension": ".py",
   "mimetype": "text/x-python",
   "name": "python",
   "nbconvert_exporter": "python",
   "pygments_lexer": "ipython3",
   "version": "3.11.5"
  }
 },
 "nbformat": 4,
 "nbformat_minor": 2
}
